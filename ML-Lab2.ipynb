{
  "nbformat": 4,
  "nbformat_minor": 0,
  "metadata": {
    "colab": {
      "provenance": [],
      "collapsed_sections": []
    },
    "kernelspec": {
      "name": "python3",
      "display_name": "Python 3"
    },
    "language_info": {
      "name": "python"
    }
  },
  "cells": [
    {
      "cell_type": "markdown",
      "metadata": {
        "id": "vg3ioKqvpQ3O"
      },
      "source": [
        "# **19CSE305: MACHINE LEARNING LAB 2**\n",
        "\n",
        "PYTHON BASICS : EXCERCISES"
      ]
    },
    {
      "cell_type": "markdown",
      "metadata": {
        "id": "burmJnBypUxF"
      },
      "source": [
        "ROLL NUMBER: "
      ]
    },
    {
      "cell_type": "code",
      "metadata": {
        "id": "hrgW4a0CJs34"
      },
      "source": [
        "PYTHON BASIC EXCERSISE\n",
        "\n",
        "1)Get two positive integers start and end from the user and write a Python program to print all Prime numbers in that Interval.\n",
        "2) Given a list of strings( Entered by the user), write program to get a percentage share of each word in the strings list.\n",
        "percentage := (Occurrence of a word / Total words) * 100\n",
        "3)Check if  given number is Fibonacci number or not. Given an integer ‘n’( Entered by the user), write a Python function that returns true if n  is Fibonacci number else return false.\n",
        "4)Write a program to check if all digits of a number divide it. Given a number n( Entered by the user), find whether all digits of n divide it or not.\n",
        "5)Get a given array as input from the user and split it from a specified position, and move the first part of array add to the end.\n",
        "example:\n",
        "Input : {1, 2, 3, 4, 5}, k = 3\n",
        "Output :{4,5,1,2,3}\n",
        "\n",
        "\n",
        "NUMPY BASIC EXCERSISE\n",
        "\n",
        "1) Create a 2D array of shape 4x5 that contains random decimal numbers between 3 and 10.\n",
        "2) Create a randomly created 1D array and Convert it to a 2D array with 2 rows.\n",
        "3) Given a NumPy array of temperature values, convert the values of Fahrenheit degrees into Centigrade degrees. \n",
        "4) Write a NumPy program to count the number of dimensions, number of elements and number of bytes for each element in a given array.\n",
        "5) Write a NumPy program to extract third and fourth elements of the second and third rows from a given (3x4) array.\n",
        "\n"
      ],
      "execution_count": null,
      "outputs": []
    },
    {
      "cell_type": "markdown",
      "source": [
        "  #PYTHON BASIC EXCERCISE"
      ],
      "metadata": {
        "id": "JR0y98L_fGaV"
      }
    },
    {
      "cell_type": "markdown",
      "source": [
        "#Question-1"
      ],
      "metadata": {
        "id": "3pPmnuKGnomn"
      }
    },
    {
      "cell_type": "code",
      "source": [
        "start=int(input(\"Enter the start range:\"))\n",
        "end=int(input(\"Enter the end range:\"))\n",
        "print(\"Prime Numbers between\",start,\"and\",end,\"are :\")\n",
        "for num in range(start,end+1):\n",
        "  if num>1:\n",
        "    for i in range(2,num):\n",
        "      if (num%i==0):\n",
        "        break\n",
        "    else:\n",
        "        print(num)"
      ],
      "metadata": {
        "colab": {
          "base_uri": "https://localhost:8080/"
        },
        "id": "rsuG1OlpfMUT",
        "outputId": "79bbc597-0bd2-4e22-9113-61c8ea383701"
      },
      "execution_count": null,
      "outputs": [
        {
          "output_type": "stream",
          "name": "stdout",
          "text": [
            "Enter the start range:2\n",
            "Enter the end range:10\n",
            "Prime Numbers between 2 and 10 are :\n",
            "2\n",
            "3\n",
            "5\n",
            "7\n"
          ]
        }
      ]
    },
    {
      "cell_type": "markdown",
      "source": [
        "#Question-2"
      ],
      "metadata": {
        "id": "fG_lwksrR8A8"
      }
    },
    {
      "cell_type": "code",
      "source": [
        "def word_percentage(strr):\n",
        "  count={}\n",
        "  words=strr.split()\n",
        "  ash=0\n",
        "  for word in words:\n",
        "    if word in count.keys():\n",
        "      count[word]+=1\n",
        "    else:\n",
        "      count[word]=1\n",
        "    ash+=1\n",
        " \n",
        "  #print(count)\n",
        "  for i in count.keys():\n",
        "    print(i,count[i]/ash*100)\n",
        "\n",
        "word_percentage(\"the quick brown fox jumps over the lazy dog\")"
      ],
      "metadata": {
        "colab": {
          "base_uri": "https://localhost:8080/"
        },
        "id": "5hvRFm_Fh8QM",
        "outputId": "59d92b38-4691-46d1-c0ce-89aa1e000857"
      },
      "execution_count": 7,
      "outputs": [
        {
          "output_type": "stream",
          "name": "stdout",
          "text": [
            "the 22.22222222222222\n",
            "quick 11.11111111111111\n",
            "brown 11.11111111111111\n",
            "fox 11.11111111111111\n",
            "jumps 11.11111111111111\n",
            "over 11.11111111111111\n",
            "lazy 11.11111111111111\n",
            "dog 11.11111111111111\n"
          ]
        }
      ]
    },
    {
      "cell_type": "markdown",
      "source": [
        "#Question-4\n",
        "\n"
      ],
      "metadata": {
        "id": "Wxpcdmk9R_o4"
      }
    },
    {
      "cell_type": "code",
      "source": [
        "\n",
        "def check_divisibility(n,digit):\n",
        "  return (digit!=0 and n%digit==0)\n",
        "\n",
        "def allDigitsDiv(n):\n",
        "  temp=n\n",
        "  while(temp>0):\n",
        "    digit=temp%10\n",
        "    if((check_divisibility(n,digit))==False):\n",
        "      return False\n",
        "\n",
        "    temp=temp//10\n",
        "  return True\n",
        "\n",
        "n=int(input())\n",
        "if(allDigitsDiv(n)):\n",
        "  print(\"Yes\")\n",
        "else:\n",
        "  print(\"No\")\n",
        "\n"
      ],
      "metadata": {
        "colab": {
          "base_uri": "https://localhost:8080/"
        },
        "id": "ZVpuLWKpSBeK",
        "outputId": "2f0ec350-457d-4130-ddd3-195656393cb1"
      },
      "execution_count": 10,
      "outputs": [
        {
          "output_type": "stream",
          "name": "stdout",
          "text": [
            "130\n",
            "No\n"
          ]
        }
      ]
    },
    {
      "cell_type": "markdown",
      "source": [
        "#Question-5\n",
        "\n",
        "\n"
      ],
      "metadata": {
        "id": "LpFvyMi1VJ1a"
      }
    },
    {
      "cell_type": "code",
      "source": [
        "\n",
        "def splitArr(arr, n, k):\n",
        "\tfor i in range(0, k):\n",
        "\t\tx = arr[0]\n",
        "\t\tfor j in range(0, n-1):\n",
        "\t\t\tarr[j] = arr[j + 1]\n",
        "\t\t\n",
        "\t\tarr[n-1] = x\n",
        "\t\t\n",
        "\n",
        "\n",
        "arr = [12, 10, 5, 6, 52, 36]\n",
        "n = len(arr)\n",
        "position = 3\n",
        "\n",
        "splitArr(arr, n, position)\n",
        "\n",
        "for i in range(0, n):\n",
        "\tprint(arr[i], end = ' ')"
      ],
      "metadata": {
        "colab": {
          "base_uri": "https://localhost:8080/"
        },
        "id": "fCC5TbzuVJcj",
        "outputId": "21d3a71a-1604-4178-9296-4f34b50116e5"
      },
      "execution_count": 21,
      "outputs": [
        {
          "output_type": "stream",
          "name": "stdout",
          "text": [
            "6 52 36 12 10 5 "
          ]
        }
      ]
    },
    {
      "cell_type": "markdown",
      "source": [
        "#NumPy"
      ],
      "metadata": {
        "id": "x4AF0JY9VYcW"
      }
    },
    {
      "cell_type": "markdown",
      "source": [
        "#Question-1"
      ],
      "metadata": {
        "id": "M9acoTniW5vQ"
      }
    },
    {
      "cell_type": "code",
      "source": [
        "import numpy as np\n",
        "x = np.random.random((4,5))\n",
        "print(\"Original Array:\")\n",
        "print(x) "
      ],
      "metadata": {
        "colab": {
          "base_uri": "https://localhost:8080/"
        },
        "id": "hZmigFk_W7hH",
        "outputId": "7bcbb06f-e72a-4b92-be1b-0529b8d402f4"
      },
      "execution_count": 14,
      "outputs": [
        {
          "output_type": "stream",
          "name": "stdout",
          "text": [
            "Original Array:\n",
            "[[0.41437129 0.322962   0.89876993 0.79687481 0.8278126 ]\n",
            " [0.70161847 0.75012358 0.82053695 0.33664101 0.5900614 ]\n",
            " [0.86134492 0.56408507 0.56829305 0.60679591 0.79827136]\n",
            " [0.72217041 0.59063459 0.4476443  0.34754701 0.7042493 ]]\n"
          ]
        }
      ]
    },
    {
      "cell_type": "markdown",
      "source": [
        "#Question-2"
      ],
      "metadata": {
        "id": "jClCxk0uYws4"
      }
    },
    {
      "cell_type": "code",
      "source": [
        "from numpy import random\n",
        "arr = random.randint(8,size=(1,6))\n",
        "print(\"Original Array : \\n\",arr)\n",
        "newarr =  arr.reshape(2,3)\n",
        "print(\"\\nConvert it to a 2D array with 2 rows : \\n\",newarr)"
      ],
      "metadata": {
        "colab": {
          "base_uri": "https://localhost:8080/"
        },
        "id": "ihjZ5Wx0YyZm",
        "outputId": "46fe2bc0-c811-40b4-b814-9d28aad7762d"
      },
      "execution_count": 18,
      "outputs": [
        {
          "output_type": "stream",
          "name": "stdout",
          "text": [
            "Original Array : \n",
            " [[7 5 6 2 2 5]]\n",
            "\n",
            "Convert it to a 2D array with 2 rows : \n",
            " [[7 5 6]\n",
            " [2 2 5]]\n"
          ]
        }
      ]
    },
    {
      "cell_type": "markdown",
      "source": [
        "#Question-3"
      ],
      "metadata": {
        "id": "CYsn6-jlbLJq"
      }
    },
    {
      "cell_type": "code",
      "source": [
        "import numpy as np\n",
        "fvalues = [0, 12, 45.21, 34, 99.91, 32]\n",
        "F = np.array(fvalues)\n",
        "print(\"Values in Fahrenheit degrees:\")\n",
        "print(F)\n",
        "print(\"Values in  Centigrade degrees:\")\n",
        "print(np.round((5*F/9 - 5*32/9),2))"
      ],
      "metadata": {
        "colab": {
          "base_uri": "https://localhost:8080/"
        },
        "id": "Oj56LcF3bMu7",
        "outputId": "c1f5ee9b-2003-4327-93ea-fe12c1c5a083"
      },
      "execution_count": 23,
      "outputs": [
        {
          "output_type": "stream",
          "name": "stdout",
          "text": [
            "Values in Fahrenheit degrees:\n",
            "[ 0.   12.   45.21 34.   99.91 32.  ]\n",
            "Values in  Centigrade degrees:\n",
            "[-17.78 -11.11   7.34   1.11  37.73   0.  ]\n"
          ]
        }
      ]
    }
  ]
}