{
  "nbformat": 4,
  "nbformat_minor": 0,
  "metadata": {
    "colab": {
      "provenance": [],
      "collapsed_sections": []
    },
    "kernelspec": {
      "name": "python3",
      "display_name": "Python 3"
    },
    "language_info": {
      "name": "python"
    }
  },
  "cells": [
    {
      "cell_type": "markdown",
      "source": [
        "Roll No: CB.EN.U4CSE20271"
      ],
      "metadata": {
        "id": "I8Lfgqtp95IN"
      }
    },
    {
      "cell_type": "code",
      "execution_count": null,
      "metadata": {
        "id": "oudZYm2_8Elk"
      },
      "outputs": [],
      "source": [
        "import pandas as pd"
      ]
    },
    {
      "cell_type": "code",
      "source": [
        "import numpy as np"
      ],
      "metadata": {
        "id": "6p7Sr5hhNEj3"
      },
      "execution_count": null,
      "outputs": []
    },
    {
      "cell_type": "markdown",
      "source": [
        "#Q1"
      ],
      "metadata": {
        "id": "qDx1NNsJ8ifo"
      }
    },
    {
      "cell_type": "code",
      "source": [
        "lst=['A','S','H','I','S','H']\n",
        "s=pd.Series(lst)\n",
        "print(s)"
      ],
      "metadata": {
        "colab": {
          "base_uri": "https://localhost:8080/"
        },
        "id": "AWphQyUi8QAi",
        "outputId": "3f69e622-e1cb-43b2-c1b8-a2397fe735e0"
      },
      "execution_count": null,
      "outputs": [
        {
          "output_type": "stream",
          "name": "stdout",
          "text": [
            "0    A\n",
            "1    S\n",
            "2    H\n",
            "3    I\n",
            "4    S\n",
            "5    H\n",
            "dtype: object\n"
          ]
        }
      ]
    },
    {
      "cell_type": "markdown",
      "source": [
        "#Q2"
      ],
      "metadata": {
        "id": "OADrQc9V8krX"
      }
    },
    {
      "cell_type": "code",
      "source": [
        "df = pd.Series(['Ashish','Jaswanth','Abdul'])\n",
        "df=s.to_frame().reset_index()\n",
        "df"
      ],
      "metadata": {
        "colab": {
          "base_uri": "https://localhost:8080/",
          "height": 235
        },
        "id": "-XTYc3A68j8Z",
        "outputId": "22229d02-2619-4e27-ba2d-17b9f7195aaf"
      },
      "execution_count": null,
      "outputs": [
        {
          "output_type": "execute_result",
          "data": {
            "text/plain": [
              "   index  0\n",
              "0      0  A\n",
              "1      1  S\n",
              "2      2  H\n",
              "3      3  I\n",
              "4      4  S\n",
              "5      5  H"
            ],
            "text/html": [
              "\n",
              "  <div id=\"df-47dac60a-3410-4561-844a-ec586e6dd2ca\">\n",
              "    <div class=\"colab-df-container\">\n",
              "      <div>\n",
              "<style scoped>\n",
              "    .dataframe tbody tr th:only-of-type {\n",
              "        vertical-align: middle;\n",
              "    }\n",
              "\n",
              "    .dataframe tbody tr th {\n",
              "        vertical-align: top;\n",
              "    }\n",
              "\n",
              "    .dataframe thead th {\n",
              "        text-align: right;\n",
              "    }\n",
              "</style>\n",
              "<table border=\"1\" class=\"dataframe\">\n",
              "  <thead>\n",
              "    <tr style=\"text-align: right;\">\n",
              "      <th></th>\n",
              "      <th>index</th>\n",
              "      <th>0</th>\n",
              "    </tr>\n",
              "  </thead>\n",
              "  <tbody>\n",
              "    <tr>\n",
              "      <th>0</th>\n",
              "      <td>0</td>\n",
              "      <td>A</td>\n",
              "    </tr>\n",
              "    <tr>\n",
              "      <th>1</th>\n",
              "      <td>1</td>\n",
              "      <td>S</td>\n",
              "    </tr>\n",
              "    <tr>\n",
              "      <th>2</th>\n",
              "      <td>2</td>\n",
              "      <td>H</td>\n",
              "    </tr>\n",
              "    <tr>\n",
              "      <th>3</th>\n",
              "      <td>3</td>\n",
              "      <td>I</td>\n",
              "    </tr>\n",
              "    <tr>\n",
              "      <th>4</th>\n",
              "      <td>4</td>\n",
              "      <td>S</td>\n",
              "    </tr>\n",
              "    <tr>\n",
              "      <th>5</th>\n",
              "      <td>5</td>\n",
              "      <td>H</td>\n",
              "    </tr>\n",
              "  </tbody>\n",
              "</table>\n",
              "</div>\n",
              "      <button class=\"colab-df-convert\" onclick=\"convertToInteractive('df-47dac60a-3410-4561-844a-ec586e6dd2ca')\"\n",
              "              title=\"Convert this dataframe to an interactive table.\"\n",
              "              style=\"display:none;\">\n",
              "        \n",
              "  <svg xmlns=\"http://www.w3.org/2000/svg\" height=\"24px\"viewBox=\"0 0 24 24\"\n",
              "       width=\"24px\">\n",
              "    <path d=\"M0 0h24v24H0V0z\" fill=\"none\"/>\n",
              "    <path d=\"M18.56 5.44l.94 2.06.94-2.06 2.06-.94-2.06-.94-.94-2.06-.94 2.06-2.06.94zm-11 1L8.5 8.5l.94-2.06 2.06-.94-2.06-.94L8.5 2.5l-.94 2.06-2.06.94zm10 10l.94 2.06.94-2.06 2.06-.94-2.06-.94-.94-2.06-.94 2.06-2.06.94z\"/><path d=\"M17.41 7.96l-1.37-1.37c-.4-.4-.92-.59-1.43-.59-.52 0-1.04.2-1.43.59L10.3 9.45l-7.72 7.72c-.78.78-.78 2.05 0 2.83L4 21.41c.39.39.9.59 1.41.59.51 0 1.02-.2 1.41-.59l7.78-7.78 2.81-2.81c.8-.78.8-2.07 0-2.86zM5.41 20L4 18.59l7.72-7.72 1.47 1.35L5.41 20z\"/>\n",
              "  </svg>\n",
              "      </button>\n",
              "      \n",
              "  <style>\n",
              "    .colab-df-container {\n",
              "      display:flex;\n",
              "      flex-wrap:wrap;\n",
              "      gap: 12px;\n",
              "    }\n",
              "\n",
              "    .colab-df-convert {\n",
              "      background-color: #E8F0FE;\n",
              "      border: none;\n",
              "      border-radius: 50%;\n",
              "      cursor: pointer;\n",
              "      display: none;\n",
              "      fill: #1967D2;\n",
              "      height: 32px;\n",
              "      padding: 0 0 0 0;\n",
              "      width: 32px;\n",
              "    }\n",
              "\n",
              "    .colab-df-convert:hover {\n",
              "      background-color: #E2EBFA;\n",
              "      box-shadow: 0px 1px 2px rgba(60, 64, 67, 0.3), 0px 1px 3px 1px rgba(60, 64, 67, 0.15);\n",
              "      fill: #174EA6;\n",
              "    }\n",
              "\n",
              "    [theme=dark] .colab-df-convert {\n",
              "      background-color: #3B4455;\n",
              "      fill: #D2E3FC;\n",
              "    }\n",
              "\n",
              "    [theme=dark] .colab-df-convert:hover {\n",
              "      background-color: #434B5C;\n",
              "      box-shadow: 0px 1px 3px 1px rgba(0, 0, 0, 0.15);\n",
              "      filter: drop-shadow(0px 1px 2px rgba(0, 0, 0, 0.3));\n",
              "      fill: #FFFFFF;\n",
              "    }\n",
              "  </style>\n",
              "\n",
              "      <script>\n",
              "        const buttonEl =\n",
              "          document.querySelector('#df-47dac60a-3410-4561-844a-ec586e6dd2ca button.colab-df-convert');\n",
              "        buttonEl.style.display =\n",
              "          google.colab.kernel.accessAllowed ? 'block' : 'none';\n",
              "\n",
              "        async function convertToInteractive(key) {\n",
              "          const element = document.querySelector('#df-47dac60a-3410-4561-844a-ec586e6dd2ca');\n",
              "          const dataTable =\n",
              "            await google.colab.kernel.invokeFunction('convertToInteractive',\n",
              "                                                     [key], {});\n",
              "          if (!dataTable) return;\n",
              "\n",
              "          const docLinkHtml = 'Like what you see? Visit the ' +\n",
              "            '<a target=\"_blank\" href=https://colab.research.google.com/notebooks/data_table.ipynb>data table notebook</a>'\n",
              "            + ' to learn more about interactive tables.';\n",
              "          element.innerHTML = '';\n",
              "          dataTable['output_type'] = 'display_data';\n",
              "          await google.colab.output.renderOutput(dataTable, element);\n",
              "          const docLink = document.createElement('div');\n",
              "          docLink.innerHTML = docLinkHtml;\n",
              "          element.appendChild(docLink);\n",
              "        }\n",
              "      </script>\n",
              "    </div>\n",
              "  </div>\n",
              "  "
            ]
          },
          "metadata": {},
          "execution_count": 11
        }
      ]
    },
    {
      "cell_type": "markdown",
      "source": [
        "#Q3"
      ],
      "metadata": {
        "id": "2nuZY86uAZUZ"
      }
    },
    {
      "cell_type": "code",
      "source": [
        "a=pd.Series([\"Ford\",\"Chevrolet\",\"Honda\"])\n",
        "b=pd.Series([\"Audi\",\"Merceedes\",\"Toyota\"])\n",
        "c=pd.Series([\"Tesla\",\"Tata\",\"Jaguar\"])\n",
        "df=pd.DataFrame(a.append(b.append(c,ignore_index=True)))\n",
        "df"
      ],
      "metadata": {
        "colab": {
          "base_uri": "https://localhost:8080/",
          "height": 332
        },
        "id": "uVUHReXJAa5a",
        "outputId": "46b05b0f-13b4-4684-ffb7-54dfe61c2718"
      },
      "execution_count": null,
      "outputs": [
        {
          "output_type": "execute_result",
          "data": {
            "text/plain": [
              "           0\n",
              "0       Ford\n",
              "1  Chevrolet\n",
              "2      Honda\n",
              "0       Audi\n",
              "1  Merceedes\n",
              "2     Toyota\n",
              "3      Tesla\n",
              "4       Tata\n",
              "5     Jaguar"
            ],
            "text/html": [
              "\n",
              "  <div id=\"df-a14c83f5-efd1-4753-ae62-dd63fc716f56\">\n",
              "    <div class=\"colab-df-container\">\n",
              "      <div>\n",
              "<style scoped>\n",
              "    .dataframe tbody tr th:only-of-type {\n",
              "        vertical-align: middle;\n",
              "    }\n",
              "\n",
              "    .dataframe tbody tr th {\n",
              "        vertical-align: top;\n",
              "    }\n",
              "\n",
              "    .dataframe thead th {\n",
              "        text-align: right;\n",
              "    }\n",
              "</style>\n",
              "<table border=\"1\" class=\"dataframe\">\n",
              "  <thead>\n",
              "    <tr style=\"text-align: right;\">\n",
              "      <th></th>\n",
              "      <th>0</th>\n",
              "    </tr>\n",
              "  </thead>\n",
              "  <tbody>\n",
              "    <tr>\n",
              "      <th>0</th>\n",
              "      <td>Ford</td>\n",
              "    </tr>\n",
              "    <tr>\n",
              "      <th>1</th>\n",
              "      <td>Chevrolet</td>\n",
              "    </tr>\n",
              "    <tr>\n",
              "      <th>2</th>\n",
              "      <td>Honda</td>\n",
              "    </tr>\n",
              "    <tr>\n",
              "      <th>0</th>\n",
              "      <td>Audi</td>\n",
              "    </tr>\n",
              "    <tr>\n",
              "      <th>1</th>\n",
              "      <td>Merceedes</td>\n",
              "    </tr>\n",
              "    <tr>\n",
              "      <th>2</th>\n",
              "      <td>Toyota</td>\n",
              "    </tr>\n",
              "    <tr>\n",
              "      <th>3</th>\n",
              "      <td>Tesla</td>\n",
              "    </tr>\n",
              "    <tr>\n",
              "      <th>4</th>\n",
              "      <td>Tata</td>\n",
              "    </tr>\n",
              "    <tr>\n",
              "      <th>5</th>\n",
              "      <td>Jaguar</td>\n",
              "    </tr>\n",
              "  </tbody>\n",
              "</table>\n",
              "</div>\n",
              "      <button class=\"colab-df-convert\" onclick=\"convertToInteractive('df-a14c83f5-efd1-4753-ae62-dd63fc716f56')\"\n",
              "              title=\"Convert this dataframe to an interactive table.\"\n",
              "              style=\"display:none;\">\n",
              "        \n",
              "  <svg xmlns=\"http://www.w3.org/2000/svg\" height=\"24px\"viewBox=\"0 0 24 24\"\n",
              "       width=\"24px\">\n",
              "    <path d=\"M0 0h24v24H0V0z\" fill=\"none\"/>\n",
              "    <path d=\"M18.56 5.44l.94 2.06.94-2.06 2.06-.94-2.06-.94-.94-2.06-.94 2.06-2.06.94zm-11 1L8.5 8.5l.94-2.06 2.06-.94-2.06-.94L8.5 2.5l-.94 2.06-2.06.94zm10 10l.94 2.06.94-2.06 2.06-.94-2.06-.94-.94-2.06-.94 2.06-2.06.94z\"/><path d=\"M17.41 7.96l-1.37-1.37c-.4-.4-.92-.59-1.43-.59-.52 0-1.04.2-1.43.59L10.3 9.45l-7.72 7.72c-.78.78-.78 2.05 0 2.83L4 21.41c.39.39.9.59 1.41.59.51 0 1.02-.2 1.41-.59l7.78-7.78 2.81-2.81c.8-.78.8-2.07 0-2.86zM5.41 20L4 18.59l7.72-7.72 1.47 1.35L5.41 20z\"/>\n",
              "  </svg>\n",
              "      </button>\n",
              "      \n",
              "  <style>\n",
              "    .colab-df-container {\n",
              "      display:flex;\n",
              "      flex-wrap:wrap;\n",
              "      gap: 12px;\n",
              "    }\n",
              "\n",
              "    .colab-df-convert {\n",
              "      background-color: #E8F0FE;\n",
              "      border: none;\n",
              "      border-radius: 50%;\n",
              "      cursor: pointer;\n",
              "      display: none;\n",
              "      fill: #1967D2;\n",
              "      height: 32px;\n",
              "      padding: 0 0 0 0;\n",
              "      width: 32px;\n",
              "    }\n",
              "\n",
              "    .colab-df-convert:hover {\n",
              "      background-color: #E2EBFA;\n",
              "      box-shadow: 0px 1px 2px rgba(60, 64, 67, 0.3), 0px 1px 3px 1px rgba(60, 64, 67, 0.15);\n",
              "      fill: #174EA6;\n",
              "    }\n",
              "\n",
              "    [theme=dark] .colab-df-convert {\n",
              "      background-color: #3B4455;\n",
              "      fill: #D2E3FC;\n",
              "    }\n",
              "\n",
              "    [theme=dark] .colab-df-convert:hover {\n",
              "      background-color: #434B5C;\n",
              "      box-shadow: 0px 1px 3px 1px rgba(0, 0, 0, 0.15);\n",
              "      filter: drop-shadow(0px 1px 2px rgba(0, 0, 0, 0.3));\n",
              "      fill: #FFFFFF;\n",
              "    }\n",
              "  </style>\n",
              "\n",
              "      <script>\n",
              "        const buttonEl =\n",
              "          document.querySelector('#df-a14c83f5-efd1-4753-ae62-dd63fc716f56 button.colab-df-convert');\n",
              "        buttonEl.style.display =\n",
              "          google.colab.kernel.accessAllowed ? 'block' : 'none';\n",
              "\n",
              "        async function convertToInteractive(key) {\n",
              "          const element = document.querySelector('#df-a14c83f5-efd1-4753-ae62-dd63fc716f56');\n",
              "          const dataTable =\n",
              "            await google.colab.kernel.invokeFunction('convertToInteractive',\n",
              "                                                     [key], {});\n",
              "          if (!dataTable) return;\n",
              "\n",
              "          const docLinkHtml = 'Like what you see? Visit the ' +\n",
              "            '<a target=\"_blank\" href=https://colab.research.google.com/notebooks/data_table.ipynb>data table notebook</a>'\n",
              "            + ' to learn more about interactive tables.';\n",
              "          element.innerHTML = '';\n",
              "          dataTable['output_type'] = 'display_data';\n",
              "          await google.colab.output.renderOutput(dataTable, element);\n",
              "          const docLink = document.createElement('div');\n",
              "          docLink.innerHTML = docLinkHtml;\n",
              "          element.appendChild(docLink);\n",
              "        }\n",
              "      </script>\n",
              "    </div>\n",
              "  </div>\n",
              "  "
            ]
          },
          "metadata": {},
          "execution_count": 13
        }
      ]
    },
    {
      "cell_type": "markdown",
      "source": [
        "#Q4"
      ],
      "metadata": {
        "id": "ZjmfZuhFBfx6"
      }
    },
    {
      "cell_type": "code",
      "source": [
        "result=s.rename('Name')\n",
        "print(result)"
      ],
      "metadata": {
        "colab": {
          "base_uri": "https://localhost:8080/"
        },
        "id": "WSxFYUisBhSr",
        "outputId": "adf78aa3-c6a1-4691-f04a-41d3446ff3a3"
      },
      "execution_count": null,
      "outputs": [
        {
          "output_type": "stream",
          "name": "stdout",
          "text": [
            "0    A\n",
            "1    S\n",
            "2    H\n",
            "3    I\n",
            "4    S\n",
            "5    H\n",
            "Name: Name, dtype: object\n"
          ]
        }
      ]
    },
    {
      "cell_type": "markdown",
      "source": [
        "#Q5"
      ],
      "metadata": {
        "id": "ZsbYu8XdGrz7"
      }
    },
    {
      "cell_type": "code",
      "source": [
        "s1=pd.Series([\"Ford\",\"Chevrolet\",\"Honda\",\"Audi\",\"Merceedes\",\"Toyota\"])\n",
        "s2=pd.Series([\"Audi\",\"Merceedes\",\"Toyota\",\"Buggati\",\"Hyundai\",\"Nissan\"])\n",
        "print(\"Items present in Series1 not present in Series2 is: \")\n",
        "diff=s1[~s1.isin(s2)]\n",
        "print(diff)"
      ],
      "metadata": {
        "colab": {
          "base_uri": "https://localhost:8080/"
        },
        "id": "5UGP3nfIGqat",
        "outputId": "5bdac9c6-1805-4d27-8329-efa9dba10c95"
      },
      "execution_count": null,
      "outputs": [
        {
          "output_type": "stream",
          "name": "stdout",
          "text": [
            "Items present in Series1 not present in Series2 is: \n",
            "0         Ford\n",
            "1    Chevrolet\n",
            "2        Honda\n",
            "dtype: object\n"
          ]
        }
      ]
    },
    {
      "cell_type": "markdown",
      "source": [
        "#Q6"
      ],
      "metadata": {
        "id": "jW_Hh1HMLCmw"
      }
    },
    {
      "cell_type": "code",
      "source": [
        "union=pd.Series(np.union1d(s1,s2))\n",
        "intersect=pd.Series(np.intersect1d(s1,s2))\n",
        "nc=union[~union.isin(intersect)]\n",
        "print(nc)"
      ],
      "metadata": {
        "colab": {
          "base_uri": "https://localhost:8080/"
        },
        "id": "Csl0Fnu9KN3W",
        "outputId": "14af669c-d634-465a-db53-f3381cdf32dd"
      },
      "execution_count": null,
      "outputs": [
        {
          "output_type": "stream",
          "name": "stdout",
          "text": [
            "1    Chevrolet\n",
            "2         Ford\n",
            "3        Honda\n",
            "dtype: object\n"
          ]
        }
      ]
    },
    {
      "cell_type": "markdown",
      "source": [
        "#Q7"
      ],
      "metadata": {
        "id": "MLEybihTPNKj"
      }
    },
    {
      "cell_type": "code",
      "source": [
        "num_state=np.random.RandomState(100)\n",
        "num_series=pd.Series(num_state.normal(10,4,20))\n",
        "print(\"Original Series: \")\n",
        "print(num_series)\n",
        "result=np.percentile(num_series,q=[0,25,50,75,100])\n",
        "print(\"\\n The minimum, 25th percentile, median, 75th, and max of a numeric series are\")\n",
        "print(result)"
      ],
      "metadata": {
        "colab": {
          "base_uri": "https://localhost:8080/"
        },
        "id": "-6BYraOzPPTv",
        "outputId": "fa61d032-19d7-4756-d07e-569a482f831d"
      },
      "execution_count": null,
      "outputs": [
        {
          "output_type": "stream",
          "name": "stdout",
          "text": [
            "Original Series: \n",
            "0      3.000938\n",
            "1     11.370722\n",
            "2     14.612143\n",
            "3      8.990256\n",
            "4     13.925283\n",
            "5     12.056875\n",
            "6     10.884719\n",
            "7      5.719827\n",
            "8      9.242017\n",
            "9     11.020006\n",
            "10     8.167892\n",
            "11    11.740654\n",
            "12     7.665620\n",
            "13    13.267388\n",
            "14    12.690883\n",
            "15     9.582355\n",
            "16     7.874878\n",
            "17    14.118931\n",
            "18     8.247458\n",
            "19     5.526727\n",
            "dtype: float64\n",
            "\n",
            " The minimum, 25th percentile, median, 75th, and max of a numeric series are\n",
            "[ 3.00093811  8.09463867 10.23353705 12.21537733 14.61214321]\n"
          ]
        }
      ]
    },
    {
      "cell_type": "markdown",
      "source": [
        "#Q8"
      ],
      "metadata": {
        "id": "Cdus4dRYPUhs"
      }
    },
    {
      "cell_type": "code",
      "source": [
        "s3=pd.Series(data=[1,1,2,2,2,3,3,4,5,6,7,8,9,2,3,5,5,10,12,11])\n",
        "print(s3.value_counts())"
      ],
      "metadata": {
        "colab": {
          "base_uri": "https://localhost:8080/"
        },
        "id": "HaRNinv1PYKI",
        "outputId": "9ac1a2c9-40ef-48ab-ff7f-546709db398a"
      },
      "execution_count": null,
      "outputs": [
        {
          "output_type": "stream",
          "name": "stdout",
          "text": [
            "2     4\n",
            "3     3\n",
            "5     3\n",
            "1     2\n",
            "4     1\n",
            "6     1\n",
            "7     1\n",
            "8     1\n",
            "9     1\n",
            "10    1\n",
            "12    1\n",
            "11    1\n",
            "dtype: int64\n"
          ]
        }
      ]
    },
    {
      "cell_type": "markdown",
      "source": [
        "#Q9"
      ],
      "metadata": {
        "id": "lFYqWzvaSnaY"
      }
    },
    {
      "cell_type": "code",
      "source": [
        "print(\"Top 2 freq: \",s3.value_counts())\n",
        "s3[~s3.isin(s3.value_counts().index[:2])]='Other'\n",
        "print(s3)"
      ],
      "metadata": {
        "colab": {
          "base_uri": "https://localhost:8080/"
        },
        "id": "n2jzkkx1Snz1",
        "outputId": "aa462989-9428-47b3-8556-e25ef1d25eeb"
      },
      "execution_count": null,
      "outputs": [
        {
          "output_type": "stream",
          "name": "stdout",
          "text": [
            "Top 2 freq:  Other    16\n",
            "2         4\n",
            "dtype: int64\n",
            "0     Other\n",
            "1     Other\n",
            "2         2\n",
            "3         2\n",
            "4         2\n",
            "5     Other\n",
            "6     Other\n",
            "7     Other\n",
            "8     Other\n",
            "9     Other\n",
            "10    Other\n",
            "11    Other\n",
            "12    Other\n",
            "13        2\n",
            "14    Other\n",
            "15    Other\n",
            "16    Other\n",
            "17    Other\n",
            "18    Other\n",
            "19    Other\n",
            "dtype: object\n"
          ]
        }
      ]
    },
    {
      "cell_type": "markdown",
      "source": [
        "#Q10 (Did not understand)"
      ],
      "metadata": {
        "id": "R0TCdtXwUBsg"
      }
    },
    {
      "cell_type": "code",
      "source": [
        "s4=pd.Series(np.random.random(20))"
      ],
      "metadata": {
        "id": "YWKQC-r8UBaD"
      },
      "execution_count": null,
      "outputs": []
    },
    {
      "cell_type": "markdown",
      "source": [
        "#Q11"
      ],
      "metadata": {
        "id": "PkzUbD3cU_J6"
      }
    },
    {
      "cell_type": "code",
      "source": [
        "s5 = pd.Series(np.random.randint(1, 10, 35))\n",
        "df=pd.DataFrame(s5.values.reshape(7,5))\n",
        "print(df)"
      ],
      "metadata": {
        "colab": {
          "base_uri": "https://localhost:8080/"
        },
        "id": "A86XzAVBVA50",
        "outputId": "31684a3d-5cfb-4ea5-fee0-f462577bf390"
      },
      "execution_count": null,
      "outputs": [
        {
          "output_type": "stream",
          "name": "stdout",
          "text": [
            "   0  1  2  3  4\n",
            "0  6  4  9  5  8\n",
            "1  5  7  5  8  6\n",
            "2  7  9  2  8  6\n",
            "3  3  2  3  5  5\n",
            "4  3  9  3  9  4\n",
            "5  1  5  1  1  2\n",
            "6  7  1  4  7  8\n"
          ]
        }
      ]
    },
    {
      "cell_type": "markdown",
      "source": [
        "#Q12"
      ],
      "metadata": {
        "id": "CNirar_qVsUi"
      }
    },
    {
      "cell_type": "code",
      "source": [
        "num_series=pd.Series(np.random.randint(1,10,9))\n",
        "print(s6)\n",
        "np.where(s6%3==0)"
      ],
      "metadata": {
        "colab": {
          "base_uri": "https://localhost:8080/"
        },
        "id": "f5xEn_cNVsxk",
        "outputId": "bd03b43d-bb25-4ccd-fe0d-8516233096e6"
      },
      "execution_count": null,
      "outputs": [
        {
          "output_type": "stream",
          "name": "stdout",
          "text": [
            "0    4\n",
            "1    3\n",
            "2    2\n",
            "3    8\n",
            "4    9\n",
            "5    4\n",
            "6    8\n",
            "dtype: int64\n"
          ]
        },
        {
          "output_type": "execute_result",
          "data": {
            "text/plain": [
              "(array([1, 4]),)"
            ]
          },
          "metadata": {},
          "execution_count": 14
        }
      ]
    },
    {
      "cell_type": "markdown",
      "source": [
        "#Q13"
      ],
      "metadata": {
        "id": "AhN9kenjWW9Y"
      }
    },
    {
      "cell_type": "code",
      "source": [
        "s7 = pd.Series(list('abcdefghijklmnopqrstuvwxyz'))\n",
        "pos = [0, 4, 8, 14, 20]\n",
        "s7.take(pos)"
      ],
      "metadata": {
        "colab": {
          "base_uri": "https://localhost:8080/"
        },
        "id": "SCZsK7H2WYbF",
        "outputId": "b59c519e-aec2-466a-a406-5c5af6bb5284"
      },
      "execution_count": null,
      "outputs": [
        {
          "output_type": "execute_result",
          "data": {
            "text/plain": [
              "0     a\n",
              "4     e\n",
              "8     i\n",
              "14    o\n",
              "20    u\n",
              "dtype: object"
            ]
          },
          "metadata": {},
          "execution_count": 31
        }
      ]
    },
    {
      "cell_type": "markdown",
      "source": [
        "#Q14"
      ],
      "metadata": {
        "id": "ifrwFFgLWp4J"
      }
    },
    {
      "cell_type": "code",
      "source": [
        "s8 = pd.Series(range(5))\n",
        "s9 = pd.Series(list('abcde'))\n",
        "s8.append(s9)\n",
        "df=pd.concat([s8,s9],axis=1)\n",
        "print(df)"
      ],
      "metadata": {
        "colab": {
          "base_uri": "https://localhost:8080/"
        },
        "id": "Mqv5nawjWqUJ",
        "outputId": "0f9a7d5e-5324-4f43-df1a-995d799f8f6a"
      },
      "execution_count": null,
      "outputs": [
        {
          "output_type": "stream",
          "name": "stdout",
          "text": [
            "   0  1\n",
            "0  0  a\n",
            "1  1  b\n",
            "2  2  c\n",
            "3  3  d\n",
            "4  4  e\n"
          ]
        }
      ]
    },
    {
      "cell_type": "markdown",
      "source": [
        "#Q15"
      ],
      "metadata": {
        "id": "pg56Pq7bWsZr"
      }
    },
    {
      "cell_type": "code",
      "source": [
        "s10 = pd.Series([10, 9, 6, 5, 3, 1, 12, 8, 13])\n",
        "s11 = pd.Series([1, 3, 10, 13])\n",
        "[pd.Index(s10).get_loc(i) for i in s11]"
      ],
      "metadata": {
        "colab": {
          "base_uri": "https://localhost:8080/"
        },
        "id": "oPBGhHNuWtrY",
        "outputId": "b61913fe-85b0-44ee-ad44-9d3339df5ff1"
      },
      "execution_count": null,
      "outputs": [
        {
          "output_type": "execute_result",
          "data": {
            "text/plain": [
              "[5, 4, 0, 8]"
            ]
          },
          "metadata": {},
          "execution_count": 33
        }
      ]
    },
    {
      "cell_type": "markdown",
      "source": [
        "#Q16"
      ],
      "metadata": {
        "id": "i-_mocIoXXuk"
      }
    },
    {
      "cell_type": "code",
      "source": [
        "truth = pd.Series(range(10))\n",
        "pred = pd.Series(range(10)) + np.random.random(10)\n",
        "np.mean((truth-pred)**2)"
      ],
      "metadata": {
        "colab": {
          "base_uri": "https://localhost:8080/"
        },
        "id": "lqUD_XzDXY-T",
        "outputId": "6f76d346-1907-4e63-aa6a-4a640308a998"
      },
      "execution_count": null,
      "outputs": [
        {
          "output_type": "execute_result",
          "data": {
            "text/plain": [
              "0.31783372203935395"
            ]
          },
          "metadata": {},
          "execution_count": 34
        }
      ]
    },
    {
      "cell_type": "markdown",
      "source": [
        "#Q17"
      ],
      "metadata": {
        "id": "AhwMqV60XniM"
      }
    },
    {
      "cell_type": "code",
      "source": [
        "s12 = pd.Series(['how', 'to', 'kill', 'yourself?'])\n",
        "s12.map(lambda x: x[0].upper()+ x[1:]) \n",
        "#pd.Series([i.title() for i in s12])"
      ],
      "metadata": {
        "colab": {
          "base_uri": "https://localhost:8080/"
        },
        "id": "WZe5cT8QXoBB",
        "outputId": "463eb663-0da1-4e20-c7d3-86764b3a9d7a"
      },
      "execution_count": null,
      "outputs": [
        {
          "output_type": "execute_result",
          "data": {
            "text/plain": [
              "0          How\n",
              "1           To\n",
              "2         Kill\n",
              "3    Yourself?\n",
              "dtype: object"
            ]
          },
          "metadata": {},
          "execution_count": 36
        }
      ]
    },
    {
      "cell_type": "markdown",
      "source": [
        "#Q18"
      ],
      "metadata": {
        "id": "aqnBdVdIYReY"
      }
    },
    {
      "cell_type": "code",
      "source": [
        "s12.map(lambda x: len(x))"
      ],
      "metadata": {
        "colab": {
          "base_uri": "https://localhost:8080/"
        },
        "id": "AgxeheJXYR3Z",
        "outputId": "27f5f8ae-b050-4faa-ba76-caea91f790e5"
      },
      "execution_count": null,
      "outputs": [
        {
          "output_type": "execute_result",
          "data": {
            "text/plain": [
              "0    3\n",
              "1    2\n",
              "2    4\n",
              "3    9\n",
              "dtype: int64"
            ]
          },
          "metadata": {},
          "execution_count": 38
        }
      ]
    },
    {
      "cell_type": "markdown",
      "source": [
        "#Q19"
      ],
      "metadata": {
        "id": "2Nh_GBwoYkpL"
      }
    },
    {
      "cell_type": "code",
      "source": [
        "s13 = pd.Series([1, 3, 6, 10, 15, 21, 27, 35])\n",
        "print(s13.diff().tolist())\n",
        "print(s13.diff().diff().tolist())"
      ],
      "metadata": {
        "colab": {
          "base_uri": "https://localhost:8080/"
        },
        "id": "7YlSp0diYlJ2",
        "outputId": "6af989d3-4e74-4b68-8d5c-e2181b50db80"
      },
      "execution_count": null,
      "outputs": [
        {
          "output_type": "stream",
          "name": "stdout",
          "text": [
            "[nan, 2.0, 3.0, 4.0, 5.0, 6.0, 6.0, 8.0]\n",
            "[nan, nan, 1.0, 1.0, 1.0, 1.0, 0.0, 2.0]\n"
          ]
        }
      ]
    },
    {
      "cell_type": "markdown",
      "source": [
        "#Q20"
      ],
      "metadata": {
        "id": "h72cX4ACY-hM"
      }
    },
    {
      "cell_type": "code",
      "source": [
        "s14= pd.Series(['01 Jan 2010', '02-02-2011', '20120303', '2013/04/04', '2014-05-05', '2015-06-06T12:20'])\n",
        "pd.to_datetime(s14)"
      ],
      "metadata": {
        "colab": {
          "base_uri": "https://localhost:8080/"
        },
        "id": "-54s5s2DY_MH",
        "outputId": "c8393abd-ae0c-48b9-e611-1f6528b3c692"
      },
      "execution_count": null,
      "outputs": [
        {
          "output_type": "execute_result",
          "data": {
            "text/plain": [
              "0   2010-01-01 00:00:00\n",
              "1   2011-02-02 00:00:00\n",
              "2   2012-03-03 00:00:00\n",
              "3   2013-04-04 00:00:00\n",
              "4   2014-05-05 00:00:00\n",
              "5   2015-06-06 12:20:00\n",
              "dtype: datetime64[ns]"
            ]
          },
          "metadata": {},
          "execution_count": 40
        }
      ]
    },
    {
      "cell_type": "markdown",
      "source": [
        "#Q21"
      ],
      "metadata": {
        "id": "haHHPMOpzQiL"
      }
    },
    {
      "cell_type": "code",
      "source": [
        "s15 = pd.Series(['01 Jan 2010', '02-02-2011', '20120303', '2013/04/04', '2014-05-05', '2015-06-06T12:20'])\n",
        "from dateutil.parser import parse\n",
        "s15_ts= s15.map(lambda x: parse(x))\n",
        "print(\"Date: \", s15_ts.dt.day.tolist())\n",
        "print(\"Week Number: \", s15_ts.dt.weekofyear.tolist())\n",
        "print(\"Day number of Year: \", s15_ts.dt.dayofyear.tolist())\n",
        "print(\"Day of week \", s15_ts.dt.weekday_name.tolist())"
      ],
      "metadata": {
        "colab": {
          "base_uri": "https://localhost:8080/",
          "height": 283
        },
        "id": "qiNJIZn3zR7O",
        "outputId": "45f7ddf6-8a23-41ba-eb42-c2bfbf3b955c"
      },
      "execution_count": null,
      "outputs": [
        {
          "output_type": "stream",
          "name": "stdout",
          "text": [
            "Date:  [1, 2, 3, 4, 5, 6]\n",
            "Week Number:  [53, 5, 9, 14, 19, 23]\n",
            "Day number of Year:  [1, 33, 63, 94, 125, 157]\n"
          ]
        },
        {
          "output_type": "stream",
          "name": "stderr",
          "text": [
            "/usr/local/lib/python3.7/dist-packages/ipykernel_launcher.py:5: FutureWarning: Series.dt.weekofyear and Series.dt.week have been deprecated.  Please use Series.dt.isocalendar().week instead.\n",
            "  \"\"\"\n"
          ]
        },
        {
          "output_type": "error",
          "ename": "AttributeError",
          "evalue": "ignored",
          "traceback": [
            "\u001b[0;31m---------------------------------------------------------------------------\u001b[0m",
            "\u001b[0;31mAttributeError\u001b[0m                            Traceback (most recent call last)",
            "\u001b[0;32m<ipython-input-19-95ebbb9fbdc8>\u001b[0m in \u001b[0;36m<module>\u001b[0;34m\u001b[0m\n\u001b[1;32m      5\u001b[0m \u001b[0mprint\u001b[0m\u001b[0;34m(\u001b[0m\u001b[0;34m\"Week Number: \"\u001b[0m\u001b[0;34m,\u001b[0m \u001b[0ms15_ts\u001b[0m\u001b[0;34m.\u001b[0m\u001b[0mdt\u001b[0m\u001b[0;34m.\u001b[0m\u001b[0mweekofyear\u001b[0m\u001b[0;34m.\u001b[0m\u001b[0mtolist\u001b[0m\u001b[0;34m(\u001b[0m\u001b[0;34m)\u001b[0m\u001b[0;34m)\u001b[0m\u001b[0;34m\u001b[0m\u001b[0;34m\u001b[0m\u001b[0m\n\u001b[1;32m      6\u001b[0m \u001b[0mprint\u001b[0m\u001b[0;34m(\u001b[0m\u001b[0;34m\"Day number of Year: \"\u001b[0m\u001b[0;34m,\u001b[0m \u001b[0ms15_ts\u001b[0m\u001b[0;34m.\u001b[0m\u001b[0mdt\u001b[0m\u001b[0;34m.\u001b[0m\u001b[0mdayofyear\u001b[0m\u001b[0;34m.\u001b[0m\u001b[0mtolist\u001b[0m\u001b[0;34m(\u001b[0m\u001b[0;34m)\u001b[0m\u001b[0;34m)\u001b[0m\u001b[0;34m\u001b[0m\u001b[0;34m\u001b[0m\u001b[0m\n\u001b[0;32m----> 7\u001b[0;31m \u001b[0mprint\u001b[0m\u001b[0;34m(\u001b[0m\u001b[0;34m\"Day of week \"\u001b[0m\u001b[0;34m,\u001b[0m \u001b[0ms15_ts\u001b[0m\u001b[0;34m.\u001b[0m\u001b[0mdt\u001b[0m\u001b[0;34m.\u001b[0m\u001b[0mweekday_name\u001b[0m\u001b[0;34m.\u001b[0m\u001b[0mtolist\u001b[0m\u001b[0;34m(\u001b[0m\u001b[0;34m)\u001b[0m\u001b[0;34m)\u001b[0m\u001b[0;34m\u001b[0m\u001b[0;34m\u001b[0m\u001b[0m\n\u001b[0m",
            "\u001b[0;31mAttributeError\u001b[0m: 'DatetimeProperties' object has no attribute 'weekday_name'"
          ]
        }
      ]
    },
    {
      "cell_type": "code",
      "source": [
        "s15 = pd.Series(['Jan 2010', 'Feb 2011', 'Mar 2012'])\n",
        "s15.map(lambda x: parse('04 ' + x))"
      ],
      "metadata": {
        "colab": {
          "base_uri": "https://localhost:8080/"
        },
        "id": "AF6eoeSa2S3p",
        "outputId": "99556bcb-5a43-46d2-f4b3-f89ca7dda955"
      },
      "execution_count": null,
      "outputs": [
        {
          "output_type": "execute_result",
          "data": {
            "text/plain": [
              "0   2010-01-04\n",
              "1   2011-02-04\n",
              "2   2012-03-04\n",
              "dtype: datetime64[ns]"
            ]
          },
          "metadata": {},
          "execution_count": 20
        }
      ]
    },
    {
      "cell_type": "code",
      "source": [
        "s16 = pd.Series(['Apple', 'Orange', 'Plan', 'Python', 'Money'])\n",
        "from collections import Counter\n",
        "mask = s16.map(lambda x: sum([Counter(x.lower()).get(i, 0) for i in list('aeiou')]) >= 2)\n",
        "s16[mask]"
      ],
      "metadata": {
        "colab": {
          "base_uri": "https://localhost:8080/"
        },
        "id": "Pjmf55AV4h2-",
        "outputId": "52ac4d2e-2e45-4695-aef4-e0f60e45b828"
      },
      "execution_count": null,
      "outputs": [
        {
          "output_type": "execute_result",
          "data": {
            "text/plain": [
              "0     Apple\n",
              "1    Orange\n",
              "4     Money\n",
              "dtype: object"
            ]
          },
          "metadata": {},
          "execution_count": 22
        }
      ]
    },
    {
      "cell_type": "code",
      "source": [
        "#Q24\n",
        "emails = pd.Series(['buying books at amazom.com', 'rameses@egypt.com', 'matt@t.co', 'narendra@modi.com'])\n",
        "import re\n",
        "pattern ='[A-Za-z0-9._%+-]+@[A-Za-z0-9.-]+\\\\.[A-Za-z]{2,4}'\n",
        "emails.str.findall(pattern, flags=re.IGNORECASE)"
      ],
      "metadata": {
        "colab": {
          "base_uri": "https://localhost:8080/"
        },
        "id": "u54U4P055CrC",
        "outputId": "78151fb1-22ff-4210-fe8d-04470fe29d12"
      },
      "execution_count": null,
      "outputs": [
        {
          "output_type": "execute_result",
          "data": {
            "text/plain": [
              "0                     []\n",
              "1    [rameses@egypt.com]\n",
              "2            [matt@t.co]\n",
              "3    [narendra@modi.com]\n",
              "dtype: object"
            ]
          },
          "metadata": {},
          "execution_count": 25
        }
      ]
    },
    {
      "cell_type": "code",
      "source": [
        "#Q25\n",
        "fruit = pd.Series(np.random.choice(['apple', 'banana', 'carrot'], 10))\n",
        "weights = pd.Series(np.linspace(1, 10, 10))\n",
        "weights.groupby(fruit).mean()"
      ],
      "metadata": {
        "colab": {
          "base_uri": "https://localhost:8080/"
        },
        "id": "Z3FUIJki5mv-",
        "outputId": "006e417a-7c6d-45f4-d73a-e075a59091d7"
      },
      "execution_count": null,
      "outputs": [
        {
          "output_type": "execute_result",
          "data": {
            "text/plain": [
              "apple     5.5\n",
              "banana    6.5\n",
              "carrot    4.5\n",
              "dtype: float64"
            ]
          },
          "metadata": {},
          "execution_count": 27
        }
      ]
    },
    {
      "cell_type": "code",
      "source": [
        "#Q26\n",
        "p = pd.Series([1, 2, 3, 4, 5, 6, 7, 8, 9, 10])\n",
        "q = pd.Series([10, 9, 8, 7, 6, 5, 4, 3, 2, 1])\n",
        "sum((p - q)**2)**.5"
      ],
      "metadata": {
        "colab": {
          "base_uri": "https://localhost:8080/"
        },
        "id": "qmHfCbJO511d",
        "outputId": "09f99040-3941-482a-8753-7b3b17e289eb"
      },
      "execution_count": null,
      "outputs": [
        {
          "output_type": "execute_result",
          "data": {
            "text/plain": [
              "18.16590212458495"
            ]
          },
          "metadata": {},
          "execution_count": 28
        }
      ]
    },
    {
      "cell_type": "code",
      "source": [
        "#Q27\n",
        "s17 = pd.Series([2, 10, 3, 4, 9, 10, 2, 7, 3])\n",
        "dd = np.diff(np.sign(np.diff(s17)))\n",
        "peak_locs = np.where(dd == -2)[0] + 1\n",
        "peak_locs"
      ],
      "metadata": {
        "id": "nm-aB2t-53Hh"
      },
      "execution_count": null,
      "outputs": []
    },
    {
      "cell_type": "code",
      "source": [
        "#Q28\n",
        "s18 = 'dbc deb abed gade'\n",
        "s18 = pd.Series(list('dbc deb abed gade'))\n",
        "freq = s18.value_counts()\n",
        "print(freq)\n",
        "least_freq = freq.dropna().index[-1]\n",
        "\"\".join(s18.replace(' ', least_freq))"
      ],
      "metadata": {
        "colab": {
          "base_uri": "https://localhost:8080/",
          "height": 173
        },
        "id": "hAWdCQrI54lD",
        "outputId": "f831be8b-47e8-468e-aad9-494bec85813c"
      },
      "execution_count": null,
      "outputs": [
        {
          "output_type": "stream",
          "name": "stdout",
          "text": [
            "d    4\n",
            "b    3\n",
            "     3\n",
            "e    3\n",
            "a    2\n",
            "c    1\n",
            "g    1\n",
            "dtype: int64\n"
          ]
        },
        {
          "output_type": "execute_result",
          "data": {
            "text/plain": [
              "'dbcgdebgabedggade'"
            ],
            "application/vnd.google.colaboratory.intrinsic+json": {
              "type": "string"
            }
          },
          "metadata": {},
          "execution_count": 30
        }
      ]
    },
    {
      "cell_type": "code",
      "source": [
        "#Q29\n",
        "s20 = pd.Series(np.random.randint(1,10,10), pd.date_range('2000-01-01', periods=10, freq='W-SAT'))\n",
        "s20"
      ],
      "metadata": {
        "colab": {
          "base_uri": "https://localhost:8080/"
        },
        "id": "6Y6wkzfJ56P0",
        "outputId": "9f286cba-7f85-4d5b-b0db-bb88950b6ea0"
      },
      "execution_count": null,
      "outputs": [
        {
          "output_type": "execute_result",
          "data": {
            "text/plain": [
              "2000-01-01    9\n",
              "2000-01-08    7\n",
              "2000-01-15    9\n",
              "2000-01-22    1\n",
              "2000-01-29    6\n",
              "2000-02-05    6\n",
              "2000-02-12    7\n",
              "2000-02-19    5\n",
              "2000-02-26    6\n",
              "2000-03-04    4\n",
              "Freq: W-SAT, dtype: int64"
            ]
          },
          "metadata": {},
          "execution_count": 32
        }
      ]
    },
    {
      "cell_type": "code",
      "source": [
        "#Q30\n",
        "s19 = pd.Series([1,10,3, np.nan], index=pd.to_datetime(['2000-01-01', '2000-01-03', '2000-01-06', '2000-01-08']))\n",
        "s19.resample('D').ffill()"
      ],
      "metadata": {
        "colab": {
          "base_uri": "https://localhost:8080/"
        },
        "id": "whRszZM057lC",
        "outputId": "2fbadf12-0645-48b0-bf6e-a3d5c3ebd665"
      },
      "execution_count": null,
      "outputs": [
        {
          "output_type": "execute_result",
          "data": {
            "text/plain": [
              "2000-01-01     1.0\n",
              "2000-01-02     1.0\n",
              "2000-01-03    10.0\n",
              "2000-01-04    10.0\n",
              "2000-01-05    10.0\n",
              "2000-01-06     3.0\n",
              "2000-01-07     3.0\n",
              "2000-01-08     NaN\n",
              "Freq: D, dtype: float64"
            ]
          },
          "metadata": {},
          "execution_count": 33
        }
      ]
    }
  ]
}