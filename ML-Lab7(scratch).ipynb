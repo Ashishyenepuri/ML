{
  "nbformat": 4,
  "nbformat_minor": 0,
  "metadata": {
    "colab": {
      "provenance": []
    },
    "kernelspec": {
      "name": "python3",
      "display_name": "Python 3"
    },
    "language_info": {
      "name": "python"
    }
  },
  "cells": [
    {
      "cell_type": "code",
      "execution_count": 2,
      "metadata": {
        "id": "L81SuGJeEZob"
      },
      "outputs": [],
      "source": [
        "import numpy as np\n",
        "from scipy.stats import mode"
      ]
    },
    {
      "cell_type": "code",
      "source": [
        "def Euclidean_dist(p1,p2):\n",
        "  dist=np.sqrt(np.sum((p1-p2)**2))\n",
        "  return dist"
      ],
      "metadata": {
        "id": "vYhcOYhQF-_g"
      },
      "execution_count": 16,
      "outputs": []
    },
    {
      "cell_type": "code",
      "source": [
        "def predict(x_train,y,x_input,k):\n",
        "  out_labels=[]\n",
        "\n",
        "  for item in x_input:\n",
        "\n",
        "    point_dist=[]\n",
        "\n",
        "    for j in range(len(x_train)):\n",
        "      distances=Euclidean_dist(np.array(x_train[j,:]),item)\n",
        "      point_dist.append(distances)\n",
        "    point_dist=np.array(point_dist)\n",
        "\n",
        "    dist=np.argsort(point_dist)[:k]\n",
        "\n",
        "    labels=y[dist]\n",
        "\n",
        "    lab=mode(labels)\n",
        "    lab=lab.mode[0]\n",
        "    out_labels.append(lab)\n",
        "\n",
        "  return out_labels\n"
      ],
      "metadata": {
        "id": "YQ1mqq5TGcHB"
      },
      "execution_count": 17,
      "outputs": []
    },
    {
      "cell_type": "code",
      "source": [
        "from sklearn.metrics import accuracy_score\n",
        "from sklearn.datasets import load_iris\n",
        "from numpy.random import randint\n",
        "\n",
        "iris=load_iris()\n",
        "\n",
        "X=iris.data\n",
        "y=iris.target\n",
        "\n",
        "train_idx = xxx = randint(0,150,100)\n",
        "X_train = X[train_idx]\n",
        "y_train = y[train_idx]\n",
        "\n",
        "test_idx = xxx = randint(0,150,50) \n",
        "X_test = X[test_idx]\n",
        "y_test = y[test_idx]\n",
        "\n",
        "y_pred = predict(X_train,y_train,X_test , 7)\n",
        "\n",
        "accuracy_score(y_test, y_pred)"
      ],
      "metadata": {
        "colab": {
          "base_uri": "https://localhost:8080/"
        },
        "id": "79uIW9udKkx9",
        "outputId": "806fdc22-ac7a-4336-ee42-00eb888eac7e"
      },
      "execution_count": 18,
      "outputs": [
        {
          "output_type": "execute_result",
          "data": {
            "text/plain": [
              "1.0"
            ]
          },
          "metadata": {},
          "execution_count": 18
        }
      ]
    }
  ]
}